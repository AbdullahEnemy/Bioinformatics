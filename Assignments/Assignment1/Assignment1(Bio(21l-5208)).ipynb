{
 "cells": [
  {
   "cell_type": "markdown",
   "id": "364af382-70dc-4a2c-908e-8f24e0a6f66e",
   "metadata": {},
   "source": [
    "#Bioinformatics\n",
    "Assignement-1\n",
    "Name:Abdullah Fayyaz\n",
    "RollNumber:21L-5208\n"
   ]
  },
  {
   "cell_type": "code",
   "execution_count": 6,
   "id": "bbb25a31-4dc2-4a4c-9dd9-602c6d2a2b2b",
   "metadata": {},
   "outputs": [
    {
     "name": "stdout",
     "output_type": "stream",
     "text": [
      "Pattern Count : 2\n"
     ]
    }
   ],
   "source": [
    "#Coding Problem 1\n",
    "def pattern_count(text: str, pattern: str) -> int:\n",
    "    count = 0\n",
    "    for i in range(len(text) - len(pattern) + 1):\n",
    "        if text[i:i+len(pattern)] == pattern:#Use slicing to extract a substring of the same length as the pattern starting at the current index.\n",
    "            count += 1\n",
    "    return count\n",
    "\n",
    "text = \"ACGTACGTACGT\"\n",
    "pattern = \"TA\"\n",
    "print(\"Pattern Count :\",pattern_count(text, pattern))  \n"
   ]
  },
  {
   "cell_type": "code",
   "execution_count": 13,
   "id": "a98e7557-c018-4d56-a1e9-0dfdbcd3e660",
   "metadata": {},
   "outputs": [
    {
     "name": "stdout",
     "output_type": "stream",
     "text": [
      "Most frequent patterns :  ['TT', 'AA']\n",
      "Most frequent patterns :  ['TTTT']\n"
     ]
    }
   ],
   "source": [
    "#Coding Problem 2\n",
    "def frequent_words(text: str, k: int) -> list[str]:\n",
    "    kmer_counts = {}# Dictionary to store the frequency\n",
    "    for i in range(len(text) - k + 1):# Count occurrences of each k-mer\n",
    "        kmer = text[i:i+k]\n",
    "        kmer_counts[kmer] = kmer_counts.get(kmer, 0) + 1\n",
    "    max_count = max(kmer_counts.values())# Find the maximum frequency\n",
    "    most_frequent_kmers = [kmer for kmer, count in kmer_counts.items() if count == max_count]#Storing all k-mers of with max count\n",
    "    return most_frequent_kmers\n",
    "text = \"CGTTTTGAAAACATTTTCAAAACAAAAGTTTTGCAAAACATTTT\"\n",
    "text1 = \"CGTTTTGAACATTTTCAACAAGTTTTGCAACATTTT\"\n",
    "k = 2\n",
    "k1=4\n",
    "print(\"Most frequent patterns : \",frequent_words(text, k)) \n",
    "print(\"Most frequent patterns : \",frequent_words(text1, k1)) \n"
   ]
  },
  {
   "cell_type": "code",
   "execution_count": 20,
   "id": "eebcab2d-1c51-42e2-ad5b-108e017922a7",
   "metadata": {},
   "outputs": [
    {
     "name": "stdout",
     "output_type": "stream",
     "text": [
      "Minimume Skew Value :  -2\n",
      "Positions of minimum skew :  [2, 6]\n",
      "Minimume Skew Value :  -4\n",
      "Positions of minimum skew :  [12]\n"
     ]
    }
   ],
   "source": [
    "#Coding Problem 3\n",
    "def minimum_skew(genome: str) -> list[int]:\n",
    "    skew = [0]\n",
    "    for nucleotide in genome:\n",
    "        if nucleotide == 'C':#For C append -1\n",
    "            skew.append(skew[-1] - 1)\n",
    "        elif nucleotide == 'G':#For G append +1\n",
    "            skew.append(skew[-1] + 1)\n",
    "        else:\n",
    "            skew.append(skew[-1])  # No change for 'A' or 'T'\n",
    "    min_skew_value = min(skew)\n",
    "    print(\"Minimume Skew Value : \",min_skew_value)\n",
    "    min_positions = [i for i, value in enumerate(skew) if value == min_skew_value]   # Find all positions where the skew value is minimum\n",
    "    return min_positions\n",
    "\n",
    "genome = \"CCGGCCGG\"\n",
    "genome1=\"GATACACTTCCCGAGTAGGTACTG\"\n",
    "print(\"Positions of minimum skew : \",minimum_skew(genome)) \n",
    "print(\"Positions of minimum skew : \",minimum_skew(genome1)) \n"
   ]
  },
  {
   "cell_type": "code",
   "execution_count": 27,
   "id": "aa7c8fae-c506-422f-9aac-2d9dfa2fb3e9",
   "metadata": {},
   "outputs": [
    {
     "name": "stdout",
     "output_type": "stream",
     "text": [
      "Frequent words with mismatches : ['ATGT', 'GATG', 'ATGC']\n"
     ]
    }
   ],
   "source": [
    "#Coding Problem 4\n",
    "from itertools import product\n",
    "\n",
    "# Generating neighbors of all possible k-mers with up to d mismatches\n",
    "def neighbors(pattern: str, d: int) -> list[str]:\n",
    "    nucleotides = ['A', 'C', 'G', 'T']\n",
    "    all_neighbors = set([pattern])\n",
    "\n",
    "    for _ in range(d):\n",
    "        current_neighbors = set()\n",
    "        for seq in all_neighbors:\n",
    "            for i in range(len(seq)):\n",
    "                for nucleotide in nucleotides:\n",
    "                    if seq[i] != nucleotide:\n",
    "                        current_neighbors.add(seq[:i] + nucleotide + seq[i + 1:])\n",
    "        all_neighbors.update(current_neighbors)\n",
    "\n",
    "    return list(all_neighbors)\n",
    "\n",
    "# Calculate the Hamming distance between two strings\n",
    "def hamming_distance(p: str, q: str) -> int:\n",
    "    return sum(1 for a, b in zip(p, q) if a != b)\n",
    "\n",
    "# Main function to solve the Frequent Words with Mismatches Problem\n",
    "def frequent_words_with_mismatches(text: str, k: int, d: int) -> list[str]:\n",
    "    # Edge case: If text is empty or k > len(text)\n",
    "    if len(text) == 0 or k > len(text):\n",
    "        return []\n",
    "\n",
    "    # Dictionary to count frequencies of k-mers (with mismatches)\n",
    "    frequency_map = {}\n",
    "\n",
    "    for i in range(len(text) - k + 1):\n",
    "        pattern = text[i:i+k]\n",
    "        neighbors_list = neighbors(pattern, d)  # Get all neighbors with up to d mismatches\n",
    "        for neighbor in neighbors_list:\n",
    "            frequency_map[neighbor] = frequency_map.get(neighbor, 0) + 1\n",
    "\n",
    "    # Finding the k-mers maximum frequency \n",
    "    max_frequency = max(frequency_map.values(), default=0)\n",
    "\n",
    "    #All k-mers with the maximum frequency\n",
    "    most_frequent_kmers = [kmer for kmer, count in frequency_map.items() if count == max_frequency]\n",
    "\n",
    "    return most_frequent_kmers\n",
    "text = \"ACGTTGCATGTCGCATGATGCATGAGAGCT\"\n",
    "k = 4\n",
    "d = 1\n",
    "print(\"Frequent words with mismatches :\",frequent_words_with_mismatches(text, k, d)) \n"
   ]
  },
  {
   "cell_type": "raw",
   "id": "d093b008-cd23-412c-9bfa-0cc0dbeab962",
   "metadata": {},
   "source": [
    "What is a DnaA Box?\n",
    "A DnaA box usually has the consensus sequence TTATCCACA, although slight variations are possible. This sequence is conserved across many bacterial species and is essential for initiating DNA replication by binding to the DnaA protein."
   ]
  },
  {
   "cell_type": "code",
   "execution_count": 26,
   "id": "5cc9dab7-d3ee-4a03-a3ef-50353a470896",
   "metadata": {},
   "outputs": [
    {
     "name": "stdout",
     "output_type": "stream",
     "text": [
      "DnaA box motif found at positions:\n",
      "Start: 23874, End: 23882\n",
      "Start: 265824, End: 265832\n",
      "Start: 329567, End: 329575\n",
      "Start: 391173, End: 391181\n",
      "Start: 391224, End: 391232\n",
      "Start: 415809, End: 415817\n",
      "Start: 894597, End: 894605\n",
      "Start: 1386331, End: 1386339\n",
      "Start: 2195691, End: 2195699\n",
      "Start: 2239444, End: 2239452\n",
      "Start: 2338971, End: 2338979\n",
      "Start: 2479094, End: 2479102\n",
      "Start: 2603832, End: 2603840\n",
      "Start: 2610332, End: 2610340\n",
      "Start: 2618806, End: 2618814\n",
      "Start: 2684414, End: 2684422\n",
      "Start: 2867928, End: 2867936\n",
      "Start: 2979304, End: 2979312\n",
      "Start: 3019310, End: 3019318\n",
      "Start: 3229403, End: 3229411\n",
      "Start: 3328094, End: 3328102\n",
      "Start: 3558251, End: 3558259\n",
      "Start: 3765260, End: 3765268\n",
      "Start: 3997598, End: 3997606\n",
      "Start: 4502063, End: 4502071\n",
      "Start: 4540490, End: 4540498\n",
      "Start: 4573328, End: 4573336\n",
      "Start: 4573395, End: 4573403\n",
      "Start: 4650795, End: 4650803\n",
      "Start: 4650872, End: 4650880\n",
      "Start: 4660145, End: 4660153\n",
      "Start: 4711363, End: 4711371\n"
     ]
    }
   ],
   "source": [
    "def find_dnaa_box(sequence, motif=\"TTATCCACA\"):\n",
    "    positions = []\n",
    "    seq_len = len(sequence)\n",
    "    motif_len = len(motif)\n",
    "\n",
    "    # Slide over the sequence to find the motif\n",
    "    for i in range(seq_len - motif_len + 1):\n",
    "        if sequence[i:i + motif_len] == motif:\n",
    "            positions.append((i + 1, i + motif_len))  # 1-based index\n",
    "\n",
    "    return positions\n",
    "\n",
    "# Load the Salmonella enterica data\n",
    "with open(\"Salmonella_enterica.txt\", \"r\") as file:\n",
    "    dna_sequence = file.read().replace(\"\\n\", \"\")  # Reading data from file and Removing newline characters\n",
    "# Search for DnaA box motifs\n",
    "results = find_dnaa_box(dna_sequence)\n",
    "\n",
    "if results:\n",
    "    print(\"DnaA box motif found at positions:\")\n",
    "    for start, end in results:\n",
    "        print(f\"Start: {start}, End: {end}\")\n",
    "else:\n",
    "    print(\"No DnaA box motif found.\")\n"
   ]
  }
 ],
 "metadata": {
  "kernelspec": {
   "display_name": "Python 3 (ipykernel)",
   "language": "python",
   "name": "python3"
  },
  "language_info": {
   "codemirror_mode": {
    "name": "ipython",
    "version": 3
   },
   "file_extension": ".py",
   "mimetype": "text/x-python",
   "name": "python",
   "nbconvert_exporter": "python",
   "pygments_lexer": "ipython3",
   "version": "3.11.4"
  }
 },
 "nbformat": 4,
 "nbformat_minor": 5
}
