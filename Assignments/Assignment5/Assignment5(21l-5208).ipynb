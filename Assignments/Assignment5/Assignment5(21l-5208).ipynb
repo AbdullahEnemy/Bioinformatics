{
 "cells": [
  {
   "cell_type": "code",
   "execution_count": 4,
   "id": "8683f4a6-6364-466d-90e7-c5f5860ec6bb",
   "metadata": {},
   "outputs": [],
   "source": [
    "def UPGMA(n, matrix):\n",
    "    from collections import defaultdict\n",
    "    import heapq\n",
    "\n",
    "    # Initialize clusters and metadata\n",
    "    clusters = {i: [i] for i in range(n)}\n",
    "    heights = {i: 0.0 for i in range(n)}\n",
    "    next_node = n\n",
    "    distances = {(i, j): matrix[i][j] for i in range(n) for j in range(n) if i < j}\n",
    "    adjacency = defaultdict(list)\n",
    "\n",
    "    # Priority queue for selecting the smallest distance\n",
    "    pq = [(d, i, j) for (i, j), d in distances.items()]\n",
    "    heapq.heapify(pq)\n",
    "\n",
    "    while len(clusters) > 1:\n",
    "        # Get the two closest clusters\n",
    "        while True:\n",
    "            d, i, j = heapq.heappop(pq)\n",
    "            if i in clusters and j in clusters:\n",
    "                break\n",
    "\n",
    "        # Merge clusters i and j\n",
    "        new_cluster = clusters[i] + clusters[j]\n",
    "        new_height = d / 2.0\n",
    "        adjacency[next_node].append((i, new_height - heights[i]))\n",
    "        adjacency[next_node].append((j, new_height - heights[j]))\n",
    "        adjacency[i].append((next_node, new_height - heights[i]))\n",
    "        adjacency[j].append((next_node, new_height - heights[j]))\n",
    "        heights[next_node] = new_height\n",
    "\n",
    "        # Remove i and j, add new cluster\n",
    "        del clusters[i]\n",
    "        del clusters[j]\n",
    "        clusters[next_node] = new_cluster\n",
    "\n",
    "        # Update distances\n",
    "        for k in clusters:\n",
    "            if k == next_node:\n",
    "                continue\n",
    "            dist = sum(matrix[a][b] for a in clusters[next_node] for b in clusters[k]) / (len(clusters[next_node]) * len(clusters[k]))\n",
    "            distances[(min(k, next_node), max(k, next_node))] = dist\n",
    "            heapq.heappush(pq, (dist, min(k, next_node), max(k, next_node)))\n",
    "\n",
    "        next_node += 1\n",
    "\n",
    "    # Format adjacency list output\n",
    "    result = []\n",
    "    for u in sorted(adjacency):\n",
    "        for v, w in sorted(adjacency[u]):\n",
    "            result.append(f\"{u}->{v}:{w:.3f}\")\n",
    "    return result\n"
   ]
  },
  {
   "cell_type": "code",
   "execution_count": 5,
   "id": "7764faab-7e84-470e-aa60-310a67d237ee",
   "metadata": {},
   "outputs": [
    {
     "name": "stdout",
     "output_type": "stream",
     "text": [
      "0->5:7.000\n",
      "1->6:8.833\n",
      "2->4:5.000\n",
      "3->4:5.000\n",
      "4->2:5.000\n",
      "4->3:5.000\n",
      "4->5:2.000\n",
      "5->0:7.000\n",
      "5->4:2.000\n",
      "5->6:1.833\n",
      "6->1:8.833\n",
      "6->5:1.833\n"
     ]
    }
   ],
   "source": [
    "n = 4\n",
    "matrix = [\n",
    "    [0, 20, 17, 11],\n",
    "    [20, 0, 20, 13],\n",
    "    [17, 20, 0, 10],\n",
    "    [11, 13, 10, 0]\n",
    "]\n",
    "\n",
    "output = UPGMA(n, matrix)\n",
    "for line in output:\n",
    "    print(line)\n"
   ]
  },
  {
   "cell_type": "code",
   "execution_count": null,
   "id": "40531a87-8ff6-4919-b997-4a5441802c8c",
   "metadata": {},
   "outputs": [],
   "source": []
  }
 ],
 "metadata": {
  "kernelspec": {
   "display_name": "Python 3 (ipykernel)",
   "language": "python",
   "name": "python3"
  },
  "language_info": {
   "codemirror_mode": {
    "name": "ipython",
    "version": 3
   },
   "file_extension": ".py",
   "mimetype": "text/x-python",
   "name": "python",
   "nbconvert_exporter": "python",
   "pygments_lexer": "ipython3",
   "version": "3.13.3"
  }
 },
 "nbformat": 4,
 "nbformat_minor": 5
}
