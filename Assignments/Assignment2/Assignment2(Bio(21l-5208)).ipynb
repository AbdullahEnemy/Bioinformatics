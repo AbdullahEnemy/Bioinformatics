{
 "cells": [
  {
   "cell_type": "markdown",
   "id": "e40dd3db-d089-469d-a562-79960509f30e",
   "metadata": {},
   "source": [
    "#Bioinformatics\n",
    "Assignement-1\n",
    "Name:Abdullah Fayyaz\n",
    "RollNumber:21L-5208"
   ]
  },
  {
   "cell_type": "markdown",
   "id": "5e4a04f7-0444-455e-a3b5-bed340712eee",
   "metadata": {},
   "source": [
    "Question no 1"
   ]
  },
  {
   "cell_type": "code",
   "execution_count": 1,
   "id": "a148de6c-4ade-4374-9e04-18a8d4a61010",
   "metadata": {},
   "outputs": [],
   "source": [
    "from itertools import product\n",
    "from typing import List"
   ]
  },
  {
   "cell_type": "code",
   "execution_count": 2,
   "id": "d0583222-a961-4d1c-a390-9fdd9d02d03d",
   "metadata": {},
   "outputs": [],
   "source": [
    "def hamming_distance(s1: str, s2: str) -> int:\n",
    "    return sum(c1 != c2 for c1, c2 in zip(s1, s2))#ZIP pairs up corresponding characters c1!=c2 check if correspomding charachters are same or not"
   ]
  },
  {
   "cell_type": "code",
   "execution_count": 3,
   "id": "87017068-ec6f-4783-a10d-f23395ca1d98",
   "metadata": {},
   "outputs": [],
   "source": [
    "def d(pattern: str, dna: list[str]) -> int:\n",
    "    k = len(pattern)\n",
    "    total_distance = 0\n",
    "    for seq in dna:\n",
    "        min_distance = float('inf')#setting minimume distance to infinity so that we can compute correct values\n",
    "        for i in range(len(seq) - k + 1):\n",
    "            kmer = seq[i:i+k]#making kerms of k lenght \n",
    "            min_distance = min(min_distance, hamming_distance(pattern, kmer)) # calculating haming distance from all paterns in the dna\n",
    "        total_distance += min_distance# adding to the  total distance \n",
    "    return total_distance"
   ]
  },
  {
   "cell_type": "code",
   "execution_count": 4,
   "id": "5c575acb-e92d-4d70-bb6c-907017fa3bc7",
   "metadata": {},
   "outputs": [],
   "source": [
    "def median_string(dna: list[str], k: int) -> str:\n",
    "    best_pattern = None\n",
    "    min_distance = float('inf')\n",
    "    for pattern_tuple in product(\"ACGT\", repeat=k):# generates all possible k-mers (strings of length k) made up of A, C, G, T\n",
    "        pattern = \"\".join(pattern_tuple)\n",
    "        dist = d(pattern, dna)\n",
    "        if dist < min_distance:#checking if computed distance is less then minimue distance or not\n",
    "            min_distance = dist\n",
    "            best_pattern = pattern \n",
    "    return best_pattern"
   ]
  },
  {
   "cell_type": "code",
   "execution_count": 16,
   "id": "81e641dd-0452-4f06-8ed0-c62bfa238821",
   "metadata": {},
   "outputs": [
    {
     "name": "stdout",
     "output_type": "stream",
     "text": [
      "AAA\n"
     ]
    }
   ],
   "source": [
    "k = 3\n",
    "dna = ['ATA', 'ACA', 'AGA', 'AAT', 'AAC']\n",
    "print(median_string(dna, k))"
   ]
  },
  {
   "cell_type": "markdown",
   "id": "9b5aa012-2d7c-4ff3-9aa8-7edbd02ad14c",
   "metadata": {},
   "source": [
    "\n",
    "Question no 2"
   ]
  },
  {
   "cell_type": "code",
   "execution_count": 7,
   "id": "57266993-921f-4e58-acb7-28856d1bf9fe",
   "metadata": {},
   "outputs": [],
   "source": [
    "def score(motifs: List[str]) -> int:\n",
    "    \"Calculate the score of the given motifs.\"\n",
    "    consensus = \"\"\n",
    "    k = len(motifs[0])\n",
    "    total_score = 0\n",
    "    \n",
    "    for i in range(k):\n",
    "        col = [motif[i] for motif in motifs]\n",
    "        most_common = max(set(col), key=col.count)\n",
    "        total_score += sum(1 for c in col if c != most_common)\n",
    "    \n",
    "    return total_score"
   ]
  },
  {
   "cell_type": "code",
   "execution_count": 8,
   "id": "dda8ec3e-848b-4c45-9d95-df35cd5e34bc",
   "metadata": {},
   "outputs": [],
   "source": [
    "def profile_matrix(motifs: List[str], k: int) -> List[List[float]]:\n",
    "    \"\"\"Construct the profile matrix without pseudocounts.\"\"\"\n",
    "    t = len(motifs)\n",
    "    profile = [[0] * k for _ in range(4)]\n",
    "    bases = 'ACGT'\n",
    "    \n",
    "    for j in range(k):\n",
    "        col = [motif[j] for motif in motifs]\n",
    "        for i, base in enumerate(bases):\n",
    "            profile[i][j] = col.count(base) / t\n",
    "    \n",
    "    return profile"
   ]
  },
  {
   "cell_type": "code",
   "execution_count": null,
   "id": "638c764c-b818-41b5-9604-bbdfc521c0b7",
   "metadata": {},
   "outputs": [],
   "source": [
    "def most_probable_kmer(text: str, k: int, profile: List[List[float]]) -> str:\n",
    "    \"\"\"Find the most probable k-mer in text given the profile matrix.\"\"\"\n",
    "    bases = 'ACGT'\n",
    "    max_prob = -1\n",
    "    best_kmer = text[:k]\n",
    "    \n",
    "    for i in range(len(text) - k + 1):\n",
    "        kmer = text[i:i+k]\n",
    "        prob = 1\n",
    "        for j, char in enumerate(kmer):\n",
    "            prob *= profile[bases.index(char)][j]\n",
    "        \n",
    "        if prob > max_prob:\n",
    "            max_prob = prob\n",
    "            best_kmer = kmer\n",
    "    \n",
    "    return best_kmer"
   ]
  },
  {
   "cell_type": "code",
   "execution_count": 13,
   "id": "69f7d108-9e36-4d42-9d17-8e17adb076c4",
   "metadata": {},
   "outputs": [],
   "source": [
    "def greedy_motif_search(dna: List[str], k: int, t: int) -> List[str]:\n",
    "    \"\"\"Perform the greedy motif search algorithm without pseudocounts.\"\"\"\n",
    "    best_motifs = [seq[:k] for seq in dna]\n",
    "    first_seq = dna[0]\n",
    "    \n",
    "    for i in range(len(first_seq) - k + 1):\n",
    "        motifs = [first_seq[i:i+k]]\n",
    "        \n",
    "        for j in range(1, t):\n",
    "            profile = profile_matrix(motifs, k)\n",
    "            most_probable = most_probable_kmer(dna[j], k, profile)\n",
    "            motifs.append(most_probable)\n",
    "        \n",
    "        if score(motifs) < score(best_motifs):\n",
    "            best_motifs = motifs\n",
    "    \n",
    "    return best_motifs"
   ]
  },
  {
   "cell_type": "code",
   "execution_count": 14,
   "id": "331d0a34-f52a-49c2-b716-a765722b6f27",
   "metadata": {},
   "outputs": [
    {
     "name": "stdout",
     "output_type": "stream",
     "text": [
      "CAG CAG CAA CAA CAA\n"
     ]
    }
   ],
   "source": [
    "k, t = 3, 5\n",
    "dna = [\n",
    "    \"GGCGTTCAGGCA\",\n",
    "    \"AAGAATCAGTCA\",\n",
    "    \"CAAGGAGTTCGC\",\n",
    "    \"CACGTCAATCAC\",\n",
    "    \"CAATAATATTCG\"\n",
    "]\n",
    "best_motifs = greedy_motif_search(dna, k, t)\n",
    "print(\" \".join(best_motifs))\n"
   ]
  },
  {
   "cell_type": "code",
   "execution_count": null,
   "id": "4c66da8d-1164-4fa6-b9f1-fd78e5a4fdbd",
   "metadata": {},
   "outputs": [],
   "source": []
  }
 ],
 "metadata": {
  "kernelspec": {
   "display_name": "Python 3",
   "language": "python",
   "name": "python3"
  },
  "language_info": {
   "codemirror_mode": {
    "name": "ipython",
    "version": 3
   },
   "file_extension": ".py",
   "mimetype": "text/x-python",
   "name": "python",
   "nbconvert_exporter": "python",
   "pygments_lexer": "ipython3",
   "version": "3.13.2"
  }
 },
 "nbformat": 4,
 "nbformat_minor": 5
}
